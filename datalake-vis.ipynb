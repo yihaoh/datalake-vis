{
 "cells": [
  {
   "cell_type": "markdown",
   "id": "e728a652-f000-4550-a011-c51690058dcd",
   "metadata": {},
   "source": [
    "# 1. Library Import"
   ]
  },
  {
   "cell_type": "code",
   "execution_count": 1,
   "id": "b9860f5e-2e7d-49b5-8b91-f9b0aa40e80c",
   "metadata": {},
   "outputs": [],
   "source": [
    "# system path config\n",
    "import os\n",
    "import sys\n",
    "sys.path.append('/nfs/users/yihao/datalake-vis/src')   # make this the src folder in project home\n",
    "from datalake_vis.vis_instance.opt_vis_instance import OptStatsVisInstance\n",
    "from datalake_vis.utils import plot_vis_plan\n",
    "\n",
    "# general import\n",
    "import pandas as pd\n",
    "import numpy as np\n",
    "import pickle\n",
    "import matplotlib.pyplot as plt\n",
    "from typing import List, Tuple, Dict"
   ]
  },
  {
   "cell_type": "markdown",
   "id": "2ab90f66-e34c-4e59-ad58-22006a707140",
   "metadata": {},
   "source": [
    "# 2. Parameters Specification"
   ]
  },
  {
   "cell_type": "code",
   "execution_count": 2,
   "id": "4203c093-f8e2-4dbd-a844-2b040af5ab5a",
   "metadata": {},
   "outputs": [
    {
     "name": "stderr",
     "output_type": "stream",
     "text": [
      "/nfs/users/yihao/.local/lib/python3.8/site-packages/sklearn/cluster/_kmeans.py:870: FutureWarning: The default value of `n_init` will change from 10 to 'auto' in 1.4. Set the value of `n_init` explicitly to suppress the warning\n",
      "  warnings.warn(\n",
      "/nfs/users/yihao/.local/lib/python3.8/site-packages/sklearn/cluster/_kmeans.py:870: FutureWarning: The default value of `n_init` will change from 10 to 'auto' in 1.4. Set the value of `n_init` explicitly to suppress the warning\n",
      "  warnings.warn(\n",
      "/nfs/users/yihao/.local/lib/python3.8/site-packages/sklearn/cluster/_kmeans.py:870: FutureWarning: The default value of `n_init` will change from 10 to 'auto' in 1.4. Set the value of `n_init` explicitly to suppress the warning\n",
      "  warnings.warn(\n"
     ]
    }
   ],
   "source": [
    "# Specify some necessary parameters\n",
    "tus_res_path = \"data/santos/tus_results/results_k50_t6.pkl\"         # table union search result path, please specify a pickle file\n",
    "query_path = \"data/santos/query\"           # path to the directory that contains queries\n",
    "datalake_path = \"data/santos/datalake\"        # path to the directory that contains datalake\n",
    "n = 3                     # the number of result tables\n",
    "k = 5\n",
    "\n",
    "query_table_name = \"mines_a.csv\"           # the file name of the query table\n",
    "\n",
    "\n",
    "# load table union search\n",
    "tus_res = pickle.load(open(tus_res_path, \"rb\"))\n",
    "result_table_names = [x[0] for i, x in enumerate(tus_res[query_table_name]) if i < n]\n",
    "result_table_paths = [f\"{datalake_path}/{x[0]}\" for i, x in enumerate(tus_res[query_table_name]) if i < n]\n",
    "\n",
    "args = {\n",
    "    \"query_path\": f\"{query_path}/{query_table_name}\",\n",
    "    \"result_paths\": result_table_paths[:n],\n",
    "    \"query_table_name\": query_table_name,\n",
    "    \"result_table_names\": result_table_names[:n],\n",
    "    \"column_matchings\": tus_res[query_table_name][:n],\n",
    "    \"orig_query_path\": f\"{query_path}/{query_table_name}\",\n",
    "    \"orig_result_paths\": result_table_paths[:n],\n",
    "    \"bucket_num\": 5,\n",
    "    \"preprocessed_data\": False,\n",
    "    \"total_batch\": 10,\n",
    "    \"text_format\": \"vector\"\n",
    "}\n",
    "\n",
    "vis_ins = OptStatsVisInstance(**args)\n",
    "top_k_plans = vis_ins.find_top_k(k)"
   ]
  },
  {
   "cell_type": "code",
   "execution_count": 3,
   "id": "5d9d6581-5cab-4565-adf9-5b4887ddf0ae",
   "metadata": {},
   "outputs": [
    {
     "name": "stdout",
     "output_type": "stream",
     "text": [
      "x: ('MINE', 'textual') | y: ('DepartmentNumber-NumÃ\\x83Â©ro-de-MinistÃ\\x83Â¨re', 'numerical') | f: min | util: 0.7576248313090419 | series: 4 | categories: 5\n",
      "\n"
     ]
    }
   ],
   "source": [
    "print(top_k_plans[0])"
   ]
  },
  {
   "cell_type": "code",
   "execution_count": 4,
   "id": "3d52ef3d-5f8f-47bd-9a7b-d48b37fc6ac3",
   "metadata": {},
   "outputs": [
    {
     "name": "stdout",
     "output_type": "stream",
     "text": [
      "==================== MINE vs. DepartmentNumber-NumÃÂ©ro-de-MinistÃÂ¨re ====================\n",
      "x: ('MINE', 'textual') | y: ('DepartmentNumber-NumÃ\\x83Â©ro-de-MinistÃ\\x83Â¨re', 'numerical') | f: min\n",
      "Count: 4 | X: (mines_a.csv(0).MINE); (mines_a.csv(1).MINE); (mines_2.csv(2).MINE); (mines_4.csv(3).MINE)\n",
      "Count: 4 | Y: (mines_a.csv(0).DepartmentNumber-NumÃÂ©ro-de-MinistÃÂ¨re); (mines_a.csv(1).DepartmentNumber-NumÃÂ©ro-de-MinistÃÂ¨re); (mines_2.csv(2).DepartmentNumber-NumÃ©ro-de-MinistÃ¨re); (mines_4.csv(3).DepartmentNumber-NumÃ©ro-de-MinistÃ¨re)\n",
      "util: 0.7576248313090419\n"
     ]
    }
   ],
   "source": [
    "print(top_k_plans[0].plan_details())"
   ]
  },
  {
   "cell_type": "code",
   "execution_count": 7,
   "id": "4b2fe310-8611-4990-9300-7c4dc6bc6a96",
   "metadata": {},
   "outputs": [],
   "source": [
    "def plot_vis_plan(data: Dict[str, List[float]], x_name: str, y_name: str, aggr: str, path: str, series: List[str]):\n",
    "    \"\"\"Plot and save figure\"\"\"\n",
    "    tp = {}\n",
    "    for v in data.values():\n",
    "        for i, e in enumerate(v):\n",
    "            if series[i] not in tp:\n",
    "                tp[series[i]] = []\n",
    "            tp[series[i]].append(e)\n",
    "\n",
    "    index = data.keys()\n",
    "    # print(len(data.keys()), len(data), [len(v) for v in data.values()])\n",
    "    try:\n",
    "        df = pd.DataFrame(tp, index=index)\n",
    "    except Exception as e:\n",
    "        print(e)\n",
    "        print(x_name, y_name, aggr)\n",
    "        print(data)\n",
    "        print(tp)\n",
    "    ax = df.plot.bar(rot=45)\n",
    "    ax.plot()\n",
    "    plt.xlabel(x_name)\n",
    "    plt.ylabel(y_name)\n",
    "    plt.tight_layout()\n",
    "    # plt.savefig(f\"{path}/{x_name}_{y_name}_{aggr}.png\")\n",
    "\n",
    "    plt.show()\n",
    "\n",
    "    plt.clf()\n",
    "    plt.close()"
   ]
  },
  {
   "cell_type": "code",
   "execution_count": 8,
   "id": "33e60a5a-acdb-4a80-ade1-b837ae810a23",
   "metadata": {},
   "outputs": [
    {
     "name": "stdout",
     "output_type": "stream",
     "text": [
      "['(mines_a.csv(0).MINE)', '(mines_a.csv(1).MINE)', '(mines_2.csv(2).MINE)', '(mines_4.csv(3).MINE)']\n"
     ]
    },
    {
     "name": "stderr",
     "output_type": "stream",
     "text": [
      "/tmp/ipykernel_1040986/3197513408.py:23: UserWarning: Glyph 131 (\\x83) missing from current font.\n",
      "  plt.tight_layout()\n",
      "/nfs/users/yihao/.local/lib/python3.8/site-packages/IPython/core/pylabtools.py:152: UserWarning: Glyph 131 (\\x83) missing from current font.\n",
      "  fig.canvas.print_figure(bytes_io, **kw)\n"
     ]
    },
    {
     "data": {
      "image/png": "[encoded data removed]",
      "text/plain": [
       "<Figure size 640x480 with 1 Axes>"
      ]
     },
     "metadata": {},
     "output_type": "display_data"
    }
   ],
   "source": [
    "plan = top_k_plans[0]\n",
    "print([str(s) for s in plan.x_series])\n",
    "plot_vis_plan(plan.plot_data, plan.x_name, plan.y_name, plan.aggr.value.name, \"\", [str(s) for s in plan.x_series])"
   ]
  },
  {
   "cell_type": "code",
   "execution_count": null,
   "id": "5428cbff-f461-4cab-b0ad-a74afcbea18d",
   "metadata": {},
   "outputs": [],
   "source": []
  }
 ],
 "metadata": {
  "kernelspec": {
   "display_name": "Python 3 (ipykernel)",
   "language": "python",
   "name": "python3"
  },
  "language_info": {
   "codemirror_mode": {
    "name": "ipython",
    "version": 3
   },
   "file_extension": ".py",
   "mimetype": "text/x-python",
   "name": "python",
   "nbconvert_exporter": "python",
   "pygments_lexer": "ipython3",
   "version": "3.8.10"
  }
 },
 "nbformat": 4,
 "nbformat_minor": 5
}

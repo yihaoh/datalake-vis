{
 "cells": [
  {
   "cell_type": "markdown",
   "id": "c0c3398f-0e84-4d31-b2ee-5f5ae0036131",
   "metadata": {},
   "source": [
    "# 1. Library Import"
   ]
  },
  {
   "cell_type": "code",
   "execution_count": 1,
   "id": "fad63289-585f-437d-9c65-801b765452b8",
   "metadata": {},
   "outputs": [],
   "source": [
    "# system path config\n",
    "# import os\n",
    "# import sys\n",
    "# sys.path.append('/nfs/users/yihao/datalake-vis/src')   # make this the src folder in project home\n",
    "# from datalake_vis.vis_instance.opt_vis_instance import OptPerfVisInstance\n",
    "# from datalake_vis.utils import plot_vis_plan\n",
    "\n",
    "# general import\n",
    "import pandas as pd\n",
    "import numpy as np\n",
    "import pickle\n",
    "import matplotlib.pyplot as plt\n",
    "from typing import List, Tuple, Dict"
   ]
  },
  {
   "cell_type": "markdown",
   "id": "3c71397a-9633-466b-aba2-1392c5f83d00",
   "metadata": {},
   "source": [
    "# 2. Parameter Sepcification"
   ]
  },
  {
   "cell_type": "code",
   "execution_count": 3,
   "id": "aef7a26d-2389-4820-9d15-a5feda494df6",
   "metadata": {},
   "outputs": [
    {
     "name": "stdout",
     "output_type": "stream",
     "text": [
      "['animal_tag_data_b.csv', 'animal_tag_data_3.csv', 'animal_tag_data_1.csv', 'animal_tag_data_0.csv', 'animal_tag_data_6.csv', 'animal_tag_data_9.csv', 'animal_tag_data_8.csv', 'animal_tag_data_4.csv', 'animal_tag_data_7.csv', 'animal_tag_data_a.csv']\n"
     ]
    }
   ],
   "source": [
    "# Specify some necessary parameters\n",
    "\n",
    "tus_res_path = \"data/santos/tus_results/results_k50_t6.pkl\"         # table union search result path, please specify a pickle file\n",
    "# TBD: list of all required query table names for user study\n",
    "query_table_name = \"animal_tag_data_b.csv\"           # the file name of the query table\n",
    "query_path = \"data/santos/query\"           # path to the directory that contains queries\n",
    "datalake_path = \"data/santos/datalake\"        # path to the directory that contains datalake\n",
    "n = 10                     # the number of result tables\n",
    "\n",
    "\n",
    "# load table union search\n",
    "tus_res = pickle.load(open(tus_res_path, \"rb\"))\n",
    "result_table_names = [x[0] for i, x in enumerate(tus_res[query_table_name]) if i < n]\n",
    "result_table_paths = [f\"{datalake_path}/{x[0]}\" for i, x in enumerate(tus_res[query_table_name]) if i < n]\n",
    "# orig_result_table_paths = [f\"{orig_datalake_path}/{x[0]}\" for i, x in enumerate(tus_res[query_table_name])]\n",
    "\n",
    "print(result_table_names)\n",
    "                                                                      \n"
   ]
  },
  {
   "cell_type": "markdown",
   "id": "caab9dbf-aace-41a3-8ead-896e7343de91",
   "metadata": {},
   "source": [
    "# 3. Data Loading"
   ]
  },
  {
   "cell_type": "code",
   "execution_count": 5,
   "id": "c372a8ac-c4d6-4f21-bc6d-7879ea544bd8",
   "metadata": {},
   "outputs": [],
   "source": [
    "def load_csv_files(file_list: List[str]) -> List[Tuple[str, pd.DataFrame]]:\n",
    "    dataframes = []\n",
    "    for file in file_list:\n",
    "        df = pd.read_csv(file)\n",
    "        dataframes.append(df)\n",
    "    return dataframes\n",
    "\n",
    "\n",
    "table_dfs = load_csv_files([f\"{query_path}/{query_table_name}\"] + result_table_paths)\n",
    "\n"
   ]
  },
  {
   "cell_type": "code",
   "execution_count": null,
   "id": "3f26a335-2e2f-465c-92de-c015f9561b9e",
   "metadata": {},
   "outputs": [],
   "source": [
    "print(len(table_dfs))\n",
    "cnt = 0\n",
    "for df in table_dfs:\n",
    "    if 'price' in df:\n",
    "        grp = df.groupby('animal_type').agg({'price':['sum']})\n",
    "        df.groupby(by=[\"animal_type\", \"primary_color\"]).size()['CAT']\n",
    "        print(grp['price']['sum']['DOG'])\n",
    "        print(\"==========\")\n",
    "# print(cnt)\n",
    "# print(table_dfs[0]['DEPT_EN_DESC'].value_counts())\n",
    "#print(sum(table_dfs[0]['AGRG_PYMT_AMT'])/ len('AGRG_PYMT_AMT'))"
   ]
  },
  {
   "cell_type": "markdown",
   "id": "fc304b5b-da80-410a-8981-510ab036791b",
   "metadata": {},
   "source": [
    "## 4. Data Summary"
   ]
  },
  {
   "cell_type": "code",
   "execution_count": 7,
   "id": "15d39772-2d8d-47d6-8cd9-229f54bce017",
   "metadata": {},
   "outputs": [
    {
     "name": "stdout",
     "output_type": "stream",
     "text": [
      "0 animal_tag_data_b.csv Index(['animal_id', 'animal_type', 'breed_group', 'primary_breed', 'tag_no',\n",
      "       'tag_type', 'tag_subtype', 'price', 'tag_date', 'tag_exp', 'tag_stat'],\n",
      "      dtype='object')\n",
      "1 animal_tag_data_b.csv Index(['animal_id', 'animal_type', 'breed_group', 'primary_breed', 'tag_no',\n",
      "       'tag_type', 'tag_subtype', 'price', 'tag_date', 'tag_exp', 'tag_stat'],\n",
      "      dtype='object')\n",
      "2 animal_tag_data_3.csv Index(['animal_id', 'animal_type', 'breed_group', 'primary_breed', 'tag_no',\n",
      "       'tag_type', 'tag_subtype', 'price', 'tag_date', 'tag_exp', 'tag_stat'],\n",
      "      dtype='object')\n",
      "3 animal_tag_data_1.csv Index(['animal_id', 'animal_type', 'breed_group', 'primary_breed', 'tag_no',\n",
      "       'tag_type', 'tag_subtype', 'price', 'tag_date', 'tag_exp', 'tag_stat'],\n",
      "      dtype='object')\n",
      "4 animal_tag_data_0.csv Index(['animal_id', 'animal_type', 'breed_group', 'primary_breed', 'tag_no',\n",
      "       'tag_type', 'tag_subtype', 'price', 'tag_date', 'tag_exp', 'tag_stat'],\n",
      "      dtype='object')\n",
      "5 animal_tag_data_6.csv Index(['animal_id', 'animal_type', 'color_group', 'primary_color',\n",
      "       'breed_group', 'primary_breed', 'status_date', 'location',\n",
      "       'animal_identity', 'tag_no', 'tag_type', 'tag_subtype'],\n",
      "      dtype='object')\n",
      "6 animal_tag_data_9.csv Index(['animal_id', 'animal_type', 'color_group', 'primary_color',\n",
      "       'breed_group', 'primary_breed', 'status_date', 'location',\n",
      "       'animal_identity', 'tag_no', 'tag_type', 'tag_subtype'],\n",
      "      dtype='object')\n",
      "7 animal_tag_data_8.csv Index(['animal_id', 'animal_type', 'color_group', 'primary_color',\n",
      "       'breed_group', 'primary_breed', 'status_date', 'location',\n",
      "       'animal_identity', 'tag_no', 'tag_type', 'tag_subtype'],\n",
      "      dtype='object')\n",
      "8 animal_tag_data_4.csv Index(['animal_id', 'animal_type', 'breed_group', 'primary_breed', 'tag_no',\n",
      "       'tag_type', 'tag_subtype', 'price', 'tag_date', 'tag_exp', 'tag_stat'],\n",
      "      dtype='object')\n",
      "9 animal_tag_data_7.csv Index(['animal_id', 'animal_type', 'color_group', 'primary_color',\n",
      "       'breed_group', 'primary_breed', 'status_date', 'location',\n",
      "       'animal_identity', 'tag_no', 'tag_type', 'tag_subtype'],\n",
      "      dtype='object')\n",
      "10 animal_tag_data_a.csv Index(['animal_id', 'animal_type', 'secondary_color', 'breed_group',\n",
      "       'primary_breed', 'tag_no', 'tag_type', 'tag_subtype', 'vaccine',\n",
      "       'serial_no', 'vet_id', 'location (1)'],\n",
      "      dtype='object')\n"
     ]
    }
   ],
   "source": [
    "def print_schemas(df_list: List[Tuple[str, pd.DataFrame]]):\n",
    "    for i, (df, name) in enumerate(zip(df_list, [query_table_name] + result_table_names)):\n",
    "        print(i, name, df.columns)\n",
    "\n",
    "print_schemas(table_dfs)\n",
    "\n",
    "# Feel free to print further information if needed\n"
   ]
  },
  {
   "cell_type": "raw",
   "id": "755b4d00-270d-4394-96ae-18e2e28b8cad",
   "metadata": {},
   "source": [
    "1. [easy, one op] What animals are covered in the search results?\n",
    "2. [easy, two ops] Which breed_group has more than 1000 animals?\n",
    "3. [medium, need to traverse multiple tables] What is the second most frequent primary color in cats?\n",
    "4. [medium, multiple tables] What is the average price of rabits?\n",
    "5. [hard, need redistribution via an attribute to realize series merging] "
   ]
  },
  {
   "cell_type": "code",
   "execution_count": 9,
   "id": "bfba4191-08a4-4abc-ae84-1cb45396a03d",
   "metadata": {},
   "outputs": [
    {
     "name": "stdout",
     "output_type": "stream",
     "text": [
      "{'NORMAL', 'GUINEA PIG', 'FERRET', 'RABBIT', 'CAT', 'BIRD', 'DOG', 'OTHER', 'LIVESTOCK'}\n"
     ]
    }
   ],
   "source": [
    "# Answer to Q1\n",
    "ans = set()\n",
    "for df in table_dfs:\n",
    "    if 'animal_type' in df:\n",
    "        s = dict(df['animal_type'].value_counts()) \n",
    "        for k,_ in s.items():\n",
    "            ans.add(k)\n",
    "print(ans)"
   ]
  },
  {
   "cell_type": "code",
   "execution_count": 11,
   "id": "9ebe792b-8e17-4dab-8a69-fb48116b88cb",
   "metadata": {},
   "outputs": [
    {
     "name": "stdout",
     "output_type": "stream",
     "text": [
      "['SHORTHAIR', 'TOY', 'MASTIFF', 'SETTER/RETRIEVE', 'TERRIER', 'HOUND', 'SHEPHERD', 'COLLIE', 'LONGHAIR', 'POODLE', 'SPITZ', 'MIX', 'POINTER', 'SPANIEL']\n"
     ]
    }
   ],
   "source": [
    "# Answer to Q2\n",
    "group_cnt = dict()\n",
    "ans = []\n",
    "for df in table_dfs:\n",
    "    if 'breed_group' in df:\n",
    "        s = dict(df['breed_group'].value_counts())\n",
    "        for k,v in s.items():\n",
    "            if k in group_cnt:\n",
    "                group_cnt[k] += v\n",
    "            else:\n",
    "                group_cnt[k] = v\n",
    "for k,v in group_cnt.items():\n",
    "    if v > 1000:\n",
    "        ans.append(k)\n",
    "print(ans)"
   ]
  },
  {
   "cell_type": "code",
   "execution_count": 13,
   "id": "f78cb221-2e5f-4b11-8203-46cfa837b9c1",
   "metadata": {},
   "outputs": [
    {
     "name": "stdout",
     "output_type": "stream",
     "text": [
      "('GRAY', 563)\n"
     ]
    }
   ],
   "source": [
    "# Answer to Q3\n",
    "colors = dict()\n",
    "for df in table_dfs:\n",
    "     if 'primary_color' in df and 'animal_type' in df:\n",
    "         grp = dict(df.groupby(by=[\"animal_type\", \"primary_color\"]).size()['CAT'])\n",
    "         for k,v in grp.items():\n",
    "             if k in colors:\n",
    "                colors[k] += v\n",
    "             else:\n",
    "                colors[k] = v\n",
    "colors_rank = [(k,v) for k, v in sorted(colors.items(), key=lambda item: item[1])]\n",
    "ans = colors_rank[-2]\n",
    "print(ans)"
   ]
  },
  {
   "cell_type": "code",
   "execution_count": 15,
   "id": "b91a4305-d55d-48dd-b9b4-56c5f17f289c",
   "metadata": {},
   "outputs": [
    {
     "name": "stdout",
     "output_type": "stream",
     "text": [
      "7.777777777777778\n"
     ]
    }
   ],
   "source": [
    "# Answer to Q4\n",
    "total_price = 0.0\n",
    "total_cnt = 0.0\n",
    "for df in table_dfs:\n",
    "    if 'price' in df and 'animal_type' in df:\n",
    "        grp = df.groupby('animal_type').agg({'price':['sum']})\n",
    "        total_price += grp['price']['sum']['RABBIT']\n",
    "        total_cnt += df.groupby(by=[\"animal_type\"]).size()['RABBIT']\n",
    "ans = total_price / total_cnt\n",
    "print(ans)"
   ]
  },
  {
   "cell_type": "markdown",
   "id": "1f1def07-c4c9-44cf-80f0-9a3f5eac837e",
   "metadata": {},
   "source": [
    "# 5. Table Pre-processing and Selection"
   ]
  },
  {
   "cell_type": "code",
   "execution_count": null,
   "id": "a2aacf22-1a5a-47c3-8e7f-588f75175f0b",
   "metadata": {},
   "outputs": [],
   "source": [
    "# enter the index of table you would like to explore\n",
    "selected_1 = [0, 1, 2, 3, 4, 8]\n",
    "table_dfs_1 = [table_dfs[i] for i in selected_1]\n",
    "result_table_names_1 = [result_table_names[i - 1] for i in selected_1 if i > 0]\n",
    "\n",
    "selected_2 = [5, 6, 7, 8, 9, 10]\n",
    "table_dfs_2 = [table_dfs[i] for i in selected_2]\n",
    "result_table_names_2 = [result_table_names[i - 1] for i in selected_2 if i > 0]\n",
    "\n",
    "# add any preprocessing for the table here\n",
    "\n"
   ]
  },
  {
   "cell_type": "markdown",
   "id": "9f27dfa5-6e1a-4b1c-b9d1-6204fcc3f15c",
   "metadata": {},
   "source": [
    "# 6. Perform Group-By and Calculate Aggregate"
   ]
  },
  {
   "cell_type": "code",
   "execution_count": null,
   "id": "d8b31ff0-fcd4-4b47-8bfe-400cd4122d85",
   "metadata": {},
   "outputs": [],
   "source": [
    "def prepare_dataframe_for_grouping(table_dfs: List[pd.DataFrame], matching_info: Tuple[str, List[Tuple[int, int]]], x_column: str, y_column: str) -> pd.DataFrame:\n",
    "    x_col_idx, y_col_idx = table_dfs[0].columns.get_loc(x_column), table_dfs[0].columns.get_loc(y_column)\n",
    "    matching = {t[0]: {p[0]: p[1] for p in t[1]} for t in matching_info}\n",
    "    x_df = pd.concat([table_dfs[0][x_column]] + [table_dfs[i].iloc[:,matching[result_table_names[i-1]][x_col_idx]] for i, t in enumerate(table_dfs) if i > 0], axis=0)\n",
    "    y_df = pd.concat([table_dfs[0][y_column]] + [table_dfs[i].iloc[:,matching[result_table_names[i-1]][y_col_idx]] for i, t in enumerate(table_dfs) if i > 0], axis=0)\n",
    "    return pd.concat([x_df, y_df], axis=1)\n",
    "\n",
    "def perform_group_by(df: pd.DataFrame, x_column: str, y_column: str, agg_func: str) -> pd.DataFrame:\n",
    "    result = df.sort_values(x_column).groupby(x_column).agg({y_column: agg_func})\n",
    "    return result\n",
    "    \n",
    "# specify the columns in the query table\n",
    "x_column = \"animal_type\"\n",
    "y_column = \"price\"\n",
    "agg_func = \"mean\"\n",
    "group_df_1 = prepare_dataframe_for_grouping(table_dfs_1, tus_res[query_table_name], x_column, y_column)\n",
    "grouped_result_1 = perform_group_by(group_df_1, x_column, y_column, agg_func)\n",
    "\n",
    "#group_df_2 = prepare_dataframe_for_grouping(table_dfs_2, tus_res[query_table_name], x_column, y_column)\n",
    "#grouped_result_2 = perform_group_by(group_df_2, x_column, y_column, agg_func)\n"
   ]
  },
  {
   "cell_type": "markdown",
   "id": "7393ee1a-df7c-49aa-b462-1970ffa5ba5c",
   "metadata": {},
   "source": [
    "# 7. Lib functions for users"
   ]
  },
  {
   "cell_type": "code",
   "execution_count": null,
   "id": "b04c9b0a-feba-4106-a9b9-87cfc5c91f46",
   "metadata": {},
   "outputs": [],
   "source": [
    "# TODO: add more descriptions about input/output\n",
    "def print_schemas(df_list):\n",
    "    # copy from above\n",
    "    pass\n",
    "\n",
    "def prepare_dataframe_for_grouping(table_dfs, matching_info, x_column, y_column):\n",
    "    # copy from above\n",
    "    pass\n",
    "\n",
    "def perform_group_by(df, x_column, y_column, agg_func):\n",
    "    # copy from above\n",
    "    pass\n",
    "\n",
    "def select_subset_of_tables(table_dfs, result_table_names, list_idx):\n",
    "    selected_table_dfs = [table_dfs[i] for i in list_idx]\n",
    "    selected_table_names = [result_table_names[i - 1] for i in list_idx if i > 0]\n",
    "    return selected_table_dfs, selected_table_names\n",
    "\n",
    "def column_projection(table_dfs, idx, col_name):\n",
    "    return table_dfs[idx][col_name]\n",
    "\n",
    "def count_all_cate_value(df, col):\n",
    "    return df[col].value_counts()\n"
   ]
  },
  {
   "cell_type": "code",
   "execution_count": null,
   "id": "754314d7-4077-49a1-9b77-b0d0bdf62510",
   "metadata": {},
   "outputs": [],
   "source": [
    "# example question: which fiscal year (FSCL_YR) has the second most number of records? \n",
    "for df in table_dfs:\n",
    "    print(count_all_cate_value(df,'FSCL_YR'))\n",
    "# Answer: 2011/2012 "
   ]
  },
  {
   "cell_type": "markdown",
   "id": "fd7bb0fc-28ea-4966-b590-4cf77631fd2c",
   "metadata": {},
   "source": [
    "# (Removed) Visualization of the Aggregate Result"
   ]
  },
  {
   "cell_type": "code",
   "execution_count": null,
   "id": "4ac49951-7fec-4075-9081-2516e12e613d",
   "metadata": {},
   "outputs": [],
   "source": [
    "# Function to visualize the group-by result\n",
    "def visualize_group_by_result(df: pd.DataFrame, x_column: str, y_column: str, chart_type: str = \"bar\"):\n",
    "    if chart_type == \"bar\":\n",
    "        df.plot(kind='bar', x=x_column, y=y_column)\n",
    "    elif chart_type == \"line\":\n",
    "        df.plot(kind='line', x=x_column, y=y_column)\n",
    "    elif chart_type == \"scatter\":\n",
    "        df.plot(kind='scatter', x=x_column, y=y_column)\n",
    "    else:\n",
    "        raise ValueError(\"Unsupported chart type\")\n",
    "    \n",
    "    plt.xlabel(x_column)\n",
    "    plt.ylabel(y_column)\n",
    "    plt.title(f\"{chart_type.capitalize()} chart of {y_column} grouped by {x_column}\")\n",
    "    plt.show()\n",
    "\n",
    "# Example usage\n",
    "chart_type = \"bar\"  # Replace with desired chart type ('bar', 'line', 'scatter', etc.)\n",
    "visualize_group_by_result(grouped_result_1.reset_index(), x_column, y_column, chart_type)"
   ]
  },
  {
   "cell_type": "code",
   "execution_count": null,
   "id": "55339d08-c8e4-4631-adde-0a0482b5ba8f",
   "metadata": {},
   "outputs": [],
   "source": [
    "visualize_group_by_result(grouped_result_2.reset_index(), x_column, y_column, chart_type)\n",
    "# plot_vis_plan(top_k_plans[0])\n",
    "# print(top_k_plans[0].plan_details())"
   ]
  }
 ],
 "metadata": {
  "kernelspec": {
   "display_name": "Python 3 (ipykernel)",
   "language": "python",
   "name": "python3"
  },
  "language_info": {
   "codemirror_mode": {
    "name": "ipython",
    "version": 3
   },
   "file_extension": ".py",
   "mimetype": "text/x-python",
   "name": "python",
   "nbconvert_exporter": "python",
   "pygments_lexer": "ipython3",
   "version": "3.12.4"
  }
 },
 "nbformat": 4,
 "nbformat_minor": 5
}
